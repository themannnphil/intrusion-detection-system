{
  "nbformat": 4,
  "nbformat_minor": 0,
  "metadata": {
    "colab": {
      "provenance": [],
      "authorship_tag": "ABX9TyNwZ/stOpCxVTzLEqzppDND",
      "include_colab_link": true
    },
    "kernelspec": {
      "name": "python3",
      "display_name": "Python 3"
    },
    "language_info": {
      "name": "python"
    }
  },
  "cells": [
    {
      "cell_type": "markdown",
      "metadata": {
        "id": "view-in-github",
        "colab_type": "text"
      },
      "source": [
        "<a href=\"https://colab.research.google.com/github/themannnphil/intrusion-detection-system/blob/main/Model_Demo.ipynb\" target=\"_parent\"><img src=\"https://colab.research.google.com/assets/colab-badge.svg\" alt=\"Open In Colab\"/></a>"
      ]
    },
    {
      "cell_type": "code",
      "execution_count": 7,
      "metadata": {
        "id": "McYZHaQllUA_"
      },
      "outputs": [],
      "source": [
        "import gradio as gr\n",
        "import joblib\n",
        "import pandas as pd"
      ]
    },
    {
      "cell_type": "code",
      "source": [
        "!git clone https://github.com/themannnphil/intrusion-detection-system.git\n",
        "%cd intrusion-detection-system"
      ],
      "metadata": {
        "colab": {
          "base_uri": "https://localhost:8080/"
        },
        "id": "mbUPPjfol3Er",
        "outputId": "5a898a06-9f42-4cc6-98b4-8b595cdc4103"
      },
      "execution_count": 3,
      "outputs": [
        {
          "output_type": "stream",
          "name": "stdout",
          "text": [
            "/content/intrusion-detection-system\n"
          ]
        }
      ]
    },
    {
      "cell_type": "code",
      "source": [
        "%cd models"
      ],
      "metadata": {
        "colab": {
          "base_uri": "https://localhost:8080/"
        },
        "id": "YG-HweK8mgUO",
        "outputId": "331474d5-feca-4326-82a8-b0ac61f1dd2e"
      },
      "execution_count": 4,
      "outputs": [
        {
          "output_type": "stream",
          "name": "stdout",
          "text": [
            "/content/intrusion-detection-system/models\n"
          ]
        }
      ]
    },
    {
      "cell_type": "code",
      "source": [
        "import joblib\n",
        "model = joblib.load(\"xgb_nslkdd_pipeline.joblib\")"
      ],
      "metadata": {
        "id": "Lm-bZSsYmFXL"
      },
      "execution_count": 5,
      "outputs": []
    },
    {
      "cell_type": "code",
      "source": [
        "# Define prediction function\n",
        "def predict_intrusion(duration, protocol_type, service, flag, src_bytes, dst_bytes,\n",
        "                      count, srv_count, serror_rate, same_srv_rate):\n",
        "\n",
        "    # Create dataframe with same feature names as training\n",
        "    input_data = pd.DataFrame([{\n",
        "        \"duration\": duration,\n",
        "        \"protocol_type\": protocol_type,\n",
        "        \"service\": service,\n",
        "        \"flag\": flag,\n",
        "        \"src_bytes\": src_bytes,\n",
        "        \"dst_bytes\": dst_bytes,\n",
        "        \"count\": count,\n",
        "        \"srv_count\": srv_count,\n",
        "        \"serror_rate\": serror_rate,\n",
        "        \"same_srv_rate\": same_srv_rate\n",
        "    }])\n",
        "\n",
        "    # Predict (0 = normal, 1 = attack)\n",
        "    pred = model.predict(input_data)[0]\n",
        "    label = \"🚨 Attack Detected\" if pred == 1 else \"✅ Normal Traffic\"\n",
        "\n",
        "    # Probability score\n",
        "    try:\n",
        "        prob = model.predict_proba(input_data)[0][1]\n",
        "        label += f\" (Attack Probability: {prob:.2f})\"\n",
        "    except:\n",
        "        pass\n",
        "\n",
        "    return label\n",
        "\n",
        "# Gradio UI\n",
        "demo = gr.Interface(\n",
        "    fn=predict_intrusion,\n",
        "    inputs=[\n",
        "        gr.Number(label=\"Duration\"),\n",
        "        gr.Dropdown([\"tcp\", \"udp\", \"icmp\"], label=\"Protocol Type\"),\n",
        "        gr.Dropdown([\"http\", \"ftp\", \"smtp\", \"private\", \"other\"], label=\"Service\"),\n",
        "        gr.Dropdown([\"SF\", \"S0\", \"REJ\", \"RSTO\", \"RSTR\", \"SH\", \"OTH\"], label=\"Flag\"),\n",
        "        gr.Number(label=\"Source Bytes\"),\n",
        "        gr.Number(label=\"Destination Bytes\"),\n",
        "        gr.Number(label=\"Count\"),\n",
        "        gr.Number(label=\"Service Count\"),\n",
        "        gr.Slider(0, 1, step=0.01, label=\"SYN Error Rate (serror_rate)\"),\n",
        "        gr.Slider(0, 1, step=0.01, label=\"Same Service Rate (same_srv_rate)\")\n",
        "    ],\n",
        "    outputs=gr.Textbox(label=\"Prediction\"),\n",
        "    title=\"🔐 Intrusion Detection System (IDS) — Demo\",\n",
        "    description=\"Enter network flow features to check if traffic is normal or an intrusion attempt (XGBoost model).\"\n",
        ")\n",
        "\n",
        "# Launch\n",
        "demo.launch()"
      ],
      "metadata": {
        "colab": {
          "base_uri": "https://localhost:8080/",
          "height": 645
        },
        "id": "IrYkSXfvnch2",
        "outputId": "c17f65c7-ec73-460f-c5ef-6b2dd7991078"
      },
      "execution_count": 8,
      "outputs": [
        {
          "output_type": "stream",
          "name": "stdout",
          "text": [
            "It looks like you are running Gradio on a hosted Jupyter notebook, which requires `share=True`. Automatically setting `share=True` (you can turn this off by setting `share=False` in `launch()` explicitly).\n",
            "\n",
            "Colab notebook detected. To show errors in colab notebook, set debug=True in launch()\n",
            "* Running on public URL: https://f3741a981c60db138e.gradio.live\n",
            "\n",
            "This share link expires in 1 week. For free permanent hosting and GPU upgrades, run `gradio deploy` from the terminal in the working directory to deploy to Hugging Face Spaces (https://huggingface.co/spaces)\n"
          ]
        },
        {
          "output_type": "display_data",
          "data": {
            "text/plain": [
              "<IPython.core.display.HTML object>"
            ],
            "text/html": [
              "<div><iframe src=\"https://f3741a981c60db138e.gradio.live\" width=\"100%\" height=\"500\" allow=\"autoplay; camera; microphone; clipboard-read; clipboard-write;\" frameborder=\"0\" allowfullscreen></iframe></div>"
            ]
          },
          "metadata": {}
        },
        {
          "output_type": "execute_result",
          "data": {
            "text/plain": []
          },
          "metadata": {},
          "execution_count": 8
        }
      ]
    }
  ]
}