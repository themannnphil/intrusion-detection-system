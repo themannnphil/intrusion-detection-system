{
  "nbformat": 4,
  "nbformat_minor": 0,
  "metadata": {
    "colab": {
      "provenance": [],
      "authorship_tag": "ABX9TyPMMvPOwMjdeetQLA15F+13",
      "include_colab_link": true
    },
    "kernelspec": {
      "name": "python3",
      "display_name": "Python 3"
    },
    "language_info": {
      "name": "python"
    }
  },
  "cells": [
    {
      "cell_type": "markdown",
      "metadata": {
        "id": "view-in-github",
        "colab_type": "text"
      },
      "source": [
        "<a href=\"https://colab.research.google.com/github/themannnphil/intrusion-detection-system/blob/main/model_demo.ipynb\" target=\"_parent\"><img src=\"https://colab.research.google.com/assets/colab-badge.svg\" alt=\"Open In Colab\"/></a>"
      ]
    },
    {
      "cell_type": "code",
      "execution_count": null,
      "metadata": {
        "id": "McYZHaQllUA_"
      },
      "outputs": [],
      "source": [
        "import gradio as gr\n",
        "import joblib\n",
        "import pandas as pd"
      ]
    },
    {
      "cell_type": "code",
      "source": [
        "#!git clone https://github.com/themannnphil/intrusion-detection-system.git\n",
        "%cd intrusion-detection-system"
      ],
      "metadata": {
        "colab": {
          "base_uri": "https://localhost:8080/"
        },
        "id": "mbUPPjfol3Er",
        "outputId": "65bd7e1d-4d69-422f-95be-15499386906f"
      },
      "execution_count": null,
      "outputs": [
        {
          "output_type": "stream",
          "name": "stdout",
          "text": [
            "/content/intrusion-detection-system\n"
          ]
        }
      ]
    },
    {
      "cell_type": "code",
      "source": [
        "%cd models"
      ],
      "metadata": {
        "colab": {
          "base_uri": "https://localhost:8080/"
        },
        "id": "YG-HweK8mgUO",
        "outputId": "d068cd1e-d5b7-40f7-f56b-c4282404143e"
      },
      "execution_count": null,
      "outputs": [
        {
          "output_type": "stream",
          "name": "stdout",
          "text": [
            "/content/intrusion-detection-system/models\n"
          ]
        }
      ]
    },
    {
      "cell_type": "markdown",
      "source": [
        " **Loading the model**"
      ],
      "metadata": {
        "id": "B_5L_wYC-21X"
      }
    },
    {
      "cell_type": "code",
      "source": [
        "import joblib\n",
        "model = joblib.load(\"xgb_nslkdd_pipeline.joblib\")"
      ],
      "metadata": {
        "id": "Lm-bZSsYmFXL"
      },
      "execution_count": null,
      "outputs": []
    },
    {
      "cell_type": "markdown",
      "source": [
        "**Checking feature names**"
      ],
      "metadata": {
        "id": "oSH4GGOJ_HKj"
      }
    },
    {
      "cell_type": "code",
      "source": [
        "# Check expected feature names\n",
        "print(model.feature_names_in_)\n",
        "print(len(model.feature_names_in_))"
      ],
      "metadata": {
        "colab": {
          "base_uri": "https://localhost:8080/"
        },
        "id": "fCAmAxzXyOv6",
        "outputId": "5ea01928-cc9a-4ed8-b43b-1442cb309e3b"
      },
      "execution_count": null,
      "outputs": [
        {
          "output_type": "stream",
          "name": "stdout",
          "text": [
            "['duration' 'protocol_type' 'service' 'flag' 'src_bytes' 'dst_bytes'\n",
            " 'land' 'wrong_fragment' 'urgent' 'hot' 'num_failed_logins' 'logged_in'\n",
            " 'num_compromised' 'root_shell' 'su_attempted' 'num_root'\n",
            " 'num_file_creations' 'num_shells' 'num_access_files' 'num_outbound_cmds'\n",
            " 'is_host_login' 'is_guest_login' 'count' 'srv_count' 'serror_rate'\n",
            " 'srv_serror_rate' 'rerror_rate' 'srv_rerror_rate' 'same_srv_rate'\n",
            " 'diff_srv_rate' 'srv_diff_host_rate' 'dst_host_count'\n",
            " 'dst_host_srv_count' 'dst_host_same_srv_rate' 'dst_host_diff_srv_rate'\n",
            " 'dst_host_same_src_port_rate' 'dst_host_srv_diff_host_rate'\n",
            " 'dst_host_serror_rate' 'dst_host_srv_serror_rate' 'dst_host_rerror_rate'\n",
            " 'dst_host_srv_rerror_rate']\n",
            "41\n"
          ]
        }
      ]
    },
    {
      "cell_type": "markdown",
      "source": [
        "**Model testing UI development using Gradio**"
      ],
      "metadata": {
        "id": "FtBW-i0B_OlV"
      }
    },
    {
      "cell_type": "code",
      "source": [
        "# Get expected features from the pipeline\n",
        "expected_cols = list(model.feature_names_in_)\n",
        "\n",
        "# Define a safe default sample (HTTP normal traffic)\n",
        "sample_data = {col: 0 for col in expected_cols}\n",
        "sample_data.update({\n",
        "    \"protocol_type\": \"tcp\",\n",
        "    \"service\": \"http\",\n",
        "    \"flag\": \"SF\",\n",
        "    \"src_bytes\": 232,\n",
        "    \"dst_bytes\": 8153,\n",
        "    \"logged_in\": 1,\n",
        "    \"count\": 2,\n",
        "    \"srv_count\": 2,\n",
        "    \"same_srv_rate\": 1.0\n",
        "})\n",
        "\n",
        "def predict_attack(*values):\n",
        "    row = dict(zip(expected_cols, values))\n",
        "    df = pd.DataFrame([row])\n",
        "    df = df[expected_cols]  # reorder columns\n",
        "\n",
        "    try:\n",
        "        pred = model.predict(df)[0]\n",
        "        proba = model.predict_proba(df)[0][pred]  # confidence\n",
        "        label = \"🚨 Attack\" if pred == 1 else \"✅ Normal\"\n",
        "        return f\"{label} (Confidence: {proba:.2f})\"\n",
        "    except Exception as e:\n",
        "        return f\"❌ Prediction error: {e}\"\n",
        "\n",
        "# --- Gradio UI ---\n",
        "with gr.Blocks() as demo:\n",
        "    gr.Markdown(\"## 🛡️ Intrusion Detection System (NSL-KDD + XGBoost)\")\n",
        "    gr.Markdown(\"Fill in features or use sample traffic examples below.\")\n",
        "\n",
        "    # Create input fields for each feature\n",
        "    inputs = []\n",
        "    for col in expected_cols:\n",
        "        inputs.append(gr.Textbox(label=col, value=str(sample_data[col])))\n",
        "\n",
        "    btn = gr.Button(\"🔍 Predict\")\n",
        "    output = gr.Label()\n",
        "\n",
        "    btn.click(\n",
        "        fn=predict_attack,\n",
        "        inputs=inputs,\n",
        "        outputs=output\n",
        "    )\n",
        "\n",
        "    # Predefined real-world traffic examples\n",
        "    # --- Gradio UI ---\n",
        "with gr.Blocks() as demo:\n",
        "    gr.Markdown(\"## 🛡️ Intrusion Detection System (NSL-KDD + XGBoost)\")\n",
        "    gr.Markdown(\"Fill in features or click one of the realistic examples below.\")\n",
        "\n",
        "    inputs = []\n",
        "    for col in expected_cols:\n",
        "        inputs.append(gr.Textbox(label=col, value=str(sample_data[col])))\n",
        "\n",
        "    btn = gr.Button(\"🔍 Predict\")\n",
        "    output = gr.Label()\n",
        "\n",
        "    btn.click(\n",
        "        fn=predict_attack,\n",
        "        inputs=inputs,\n",
        "        outputs=output\n",
        "    )\n",
        "\n",
        "    # 🔹 10 Realistic Example Cases (Normal + Attacks)\n",
        "    example_data = [\n",
        "        # ✅ Normal web browsing\n",
        "        {\"protocol_type\": \"tcp\", \"service\": \"http\", \"flag\": \"SF\", \"src_bytes\": 300, \"dst_bytes\": 8000, \"count\": 2, \"srv_count\": 2, \"same_srv_rate\": 1.0, \"logged_in\": 1},\n",
        "\n",
        "        # ✅ Normal DNS query\n",
        "        {\"protocol_type\": \"udp\", \"service\": \"domain_u\", \"flag\": \"SF\", \"src_bytes\": 50, \"dst_bytes\": 200, \"count\": 1, \"srv_count\": 1, \"same_srv_rate\": 1.0},\n",
        "\n",
        "        # 🚨 DoS: Smurf (ICMP flood)\n",
        "        {\"protocol_type\": \"icmp\", \"service\": \"ecr_i\", \"flag\": \"SF\", \"src_bytes\": 0, \"dst_bytes\": 100000, \"count\": 200, \"srv_count\": 200, \"same_srv_rate\": 0.9},\n",
        "\n",
        "        # 🚨 DoS: Neptune (SYN flood)\n",
        "        {\"protocol_type\": \"tcp\", \"service\": \"http\", \"flag\": \"S0\", \"src_bytes\": 0, \"dst_bytes\": 0, \"count\": 300, \"srv_count\": 300, \"same_srv_rate\": 0.1},\n",
        "\n",
        "        # 🚨 Probe: Port Scan\n",
        "        {\"protocol_type\": \"tcp\", \"service\": \"ftp\", \"flag\": \"REJ\", \"src_bytes\": 20, \"dst_bytes\": 0, \"count\": 50, \"srv_count\": 50, \"same_srv_rate\": 0.2},\n",
        "\n",
        "        # 🚨 Probe: Nmap Scan\n",
        "        {\"protocol_type\": \"tcp\", \"service\": \"telnet\", \"flag\": \"REJ\", \"src_bytes\": 10, \"dst_bytes\": 0, \"count\": 60, \"srv_count\": 60, \"same_srv_rate\": 0.1},\n",
        "\n",
        "        # 🚨 DoS: Teardrop\n",
        "        {\"protocol_type\": \"udp\", \"service\": \"http\", \"flag\": \"SF\", \"src_bytes\": 0, \"dst_bytes\": 0, \"count\": 150, \"srv_count\": 150, \"same_srv_rate\": 0.05},\n",
        "\n",
        "        # ✅ Normal FTP session\n",
        "        {\"protocol_type\": \"tcp\", \"service\": \"ftp\", \"flag\": \"SF\", \"src_bytes\": 1500, \"dst_bytes\": 3000, \"count\": 2, \"srv_count\": 2, \"same_srv_rate\": 1.0, \"logged_in\": 1},\n",
        "\n",
        "        # ⚠️ R2L: FTP brute force (may misclassify as normal)\n",
        "        {\"protocol_type\": \"tcp\", \"service\": \"ftp\", \"flag\": \"SF\", \"src_bytes\": 20, \"dst_bytes\": 30, \"count\": 50, \"srv_count\": 50, \"same_srv_rate\": 0.95, \"logged_in\": 0},\n",
        "\n",
        "        # ⚠️ U2R: Buffer overflow (may misclassify as normal)\n",
        "        {\"protocol_type\": \"tcp\", \"service\": \"telnet\", \"flag\": \"SF\", \"src_bytes\": 2000, \"dst_bytes\": 50, \"count\": 1, \"srv_count\": 1, \"same_srv_rate\": 1.0, \"num_shells\": 1},\n",
        "    ]\n",
        "\n",
        "    # Convert dict → list of strings in correct order\n",
        "    examples = [[str(row.get(col, 0)) for col in expected_cols] for row in example_data]\n",
        "\n",
        "    gr.Examples(\n",
        "        examples=examples,\n",
        "        inputs=inputs,\n",
        "        label=\"🔹 Example Scenarios\"\n",
        "    )\n",
        "\n",
        "demo.launch()\n"
      ],
      "metadata": {
        "colab": {
          "base_uri": "https://localhost:8080/",
          "height": 645
        },
        "id": "MxYkbrcm5_Kn",
        "outputId": "835cadec-5519-44d0-8ccc-992b32c3671b"
      },
      "execution_count": 27,
      "outputs": [
        {
          "output_type": "stream",
          "name": "stdout",
          "text": [
            "It looks like you are running Gradio on a hosted Jupyter notebook, which requires `share=True`. Automatically setting `share=True` (you can turn this off by setting `share=False` in `launch()` explicitly).\n",
            "\n",
            "Colab notebook detected. To show errors in colab notebook, set debug=True in launch()\n",
            "* Running on public URL: https://afa0ca9ed888b5e9c6.gradio.live\n",
            "\n",
            "This share link expires in 1 week. For free permanent hosting and GPU upgrades, run `gradio deploy` from the terminal in the working directory to deploy to Hugging Face Spaces (https://huggingface.co/spaces)\n"
          ]
        },
        {
          "output_type": "display_data",
          "data": {
            "text/plain": [
              "<IPython.core.display.HTML object>"
            ],
            "text/html": [
              "<div><iframe src=\"https://afa0ca9ed888b5e9c6.gradio.live\" width=\"100%\" height=\"500\" allow=\"autoplay; camera; microphone; clipboard-read; clipboard-write;\" frameborder=\"0\" allowfullscreen></iframe></div>"
            ]
          },
          "metadata": {}
        },
        {
          "output_type": "execute_result",
          "data": {
            "text/plain": []
          },
          "metadata": {},
          "execution_count": 27
        }
      ]
    },
    {
      "cell_type": "markdown",
      "source": [
        "#🛡️ **Intrusion Detection System (NSL-KDD + XGBoost)**\n",
        "## **Project Overview**\n",
        "\n",
        "* Developed a machine learning pipeline using XGBoost trained on the NSL-KDD dataset.\n",
        "\n",
        "* Applied preprocessing (Imputer, StandardScaler, OneHotEncoder) inside a Scikit-learn Pipeline.\n",
        "\n",
        "* Used SMOTE only on training data to balance classes, leaving test data untouched.\n",
        "\n",
        "* Performed hyperparameter tuning with RandomizedSearchCV on GPU (Colab T4).\n",
        "\n",
        "* Final model exported as xgb_nslkdd_pipeline.joblib and integrated into a Gradio web app.\n",
        "\n",
        "\n",
        "\n",
        "## **Demo Setup**\n",
        "\n",
        "- Built a Gradio web interface where users can input network traffic features or click pre-filled examples.\n",
        "\n",
        "- Added 10 realistic scenarios:\n",
        "\n",
        " * ✅ Normal traffic (HTTP browsing, DNS query, FTP session)\n",
        "\n",
        " * 🚨 DoS attacks (Smurf, Neptune, Teardrop)\n",
        "\n",
        " * 🚨 Probe attacks (Port scanning, Nmap scan)\n",
        "\n",
        " * ⚠️ R2L (FTP brute force)\n",
        "\n",
        " * ⚠️ U2R (Buffer overflow)\n",
        "\n",
        "* Predictions displayed as:\n",
        "\n",
        " * ✅ Normal\n",
        "\n",
        " * 🚨 Attack\n",
        "\n",
        "* Also showed confidence levels (probabilities) from the model.\n",
        "\n",
        "## **Results: Model Predictions vs Expected**\n",
        "| Scenario                         | Expected     | Model Prediction | Confidence |\n",
        "|----------------------------------|-------------|------------------|------------|\n",
        "| Normal web browsing              | Normal      | ✅ Normal        | 1.00 |\n",
        "| Normal DNS query                 | Normal      | ✅ Normal        | 1.00 |\n",
        "| DoS: Smurf (ICMP flood)          | Attack      | 🚨 Attack        | 0.98 |\n",
        "| DoS: Neptune (SYN flood)         | Attack      | 🚨 Attack        | 0.55 |\n",
        "| Probe: Port Scan                 | Attack      | 🚨 Attack        | 0.97 |\n",
        "| Probe: Nmap Scan                 | Attack      | 🚨 Attack        | 0.99 |\n",
        "| DoS: Teardrop                    | Attack      | ✅ Normal        | 0.68 |\n",
        "| Normal FTP session               | Normal      | ✅ Normal        | 1.00 |\n",
        "| R2L: FTP brute force             | Attack      | ✅ Normal        | 0.57 |\n",
        "| U2R: Buffer overflow             | Attack      | ✅ Normal        | 0.98 |\n",
        "\n",
        "\n",
        "## **Analysis**\n",
        "\n",
        "**Strengths:**\n",
        "\n",
        "- The model correctly identified clear DoS and Probe attacks (Smurf, Port Scan, Nmap) with very high confidence (≥0.97).\n",
        "\n",
        "- Normal sessions (web, DNS, FTP) were consistently classified as Normal with perfect confidence (1.0).\n",
        "\n",
        "**Weaknesses:**\n",
        "\n",
        "- DoS Teardrop was misclassified as Normal (0.68) — likely because fragmented packet attacks are less represented in the dataset.\n",
        "\n",
        "- R2L (FTP brute force) and U2R (buffer overflow) were misclassified as Normal — this is expected because these are low-frequency classes in NSL-KDD, and our model was not strong at capturing them.\n",
        "\n",
        "**Overall takeaway:**\n",
        "\n",
        "- The system is very effective for detecting DoS and Probe attacks (which are the majority in real-world scenarios).\n",
        "\n",
        "- It struggles with R2L/U2R due to data imbalance — a known limitation of many NSL-KDD models.\n",
        "\n",
        "\n",
        "## **Conclusion:**\n",
        "The IDS works well as a proof-of-concept demo. It successfully detects major attack categories (DoS, Probe) with high confidence while handling normal traffic correctly.\n",
        "Future improvements would involve special handling for R2L/U2R classes (e.g., anomaly detection, cost-sensitive learning, or ensemble models)."
      ],
      "metadata": {
        "id": "z6RV78Py_aRX"
      }
    }
  ]
}