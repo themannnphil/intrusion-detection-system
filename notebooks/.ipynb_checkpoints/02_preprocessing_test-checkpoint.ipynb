{
 "cells": [
  {
   "cell_type": "markdown",
   "id": "95cff41c-cd61-4c24-839a-a7ae2eb49014",
   "metadata": {},
   "source": [
    "## 1. Imports"
   ]
  },
  {
   "cell_type": "code",
   "execution_count": 7,
   "id": "123a9e56-ef35-4473-9d4d-33037a8b79b5",
   "metadata": {},
   "outputs": [],
   "source": [
    "import pandas as pd\n",
    "from sklearn.preprocessing import LabelEncoder, MinMaxScaler\n",
    "from collections import Counter\n",
    "import matplotlib.pyplot as plt\n",
    "import seaborn as sns\n",
    "from imblearn.over_sampling import SMOTE\n",
    "import os"
   ]
  },
  {
   "cell_type": "markdown",
   "id": "b58b66e9-76b9-4a2f-95f8-d2654605ea00",
   "metadata": {},
   "source": [
    "## 2. Paths & Columns"
   ]
  },
  {
   "cell_type": "code",
   "execution_count": 8,
   "id": "e9f8c1d3-02fb-46e1-a8d8-ebc914f1a20c",
   "metadata": {},
   "outputs": [],
   "source": [
    "RAW_TRAIN_PATH = \"../data/raw/KDDTrain+.txt\"\n",
    "RAW_TEST_PATH = \"../data/raw/KDDTest+.txt\"\n",
    "PROCESSED_DIR = \"../data/processed/\"\n",
    "\n",
    "columns = [\n",
    "    \"duration\",\"protocol_type\",\"service\",\"flag\",\"src_bytes\",\"dst_bytes\",\"land\",\n",
    "    \"wrong_fragment\",\"urgent\",\"hot\",\"num_failed_logins\",\"logged_in\",\"num_compromised\",\n",
    "    \"root_shell\",\"su_attempted\",\"num_root\",\"num_file_creations\",\"num_shells\",\n",
    "    \"num_access_files\",\"num_outbound_cmds\",\"is_host_login\",\"is_guest_login\",\n",
    "    \"count\",\"srv_count\",\"serror_rate\",\"srv_serror_rate\",\"rerror_rate\",\n",
    "    \"srv_rerror_rate\",\"same_srv_rate\",\"diff_srv_rate\",\"srv_diff_host_rate\",\n",
    "    \"dst_host_count\",\"dst_host_srv_count\",\"dst_host_same_srv_rate\",\n",
    "    \"dst_host_diff_srv_rate\",\"dst_host_same_src_port_rate\",\n",
    "    \"dst_host_srv_diff_host_rate\",\"dst_host_serror_rate\",\n",
    "    \"dst_host_srv_serror_rate\",\"dst_host_rerror_rate\",\n",
    "    \"dst_host_srv_rerror_rate\",\"label\"\n",
    "]"
   ]
  },
  {
   "cell_type": "markdown",
   "id": "5fee76ee-5e9e-4cc5-9af4-d80e9358c234",
   "metadata": {},
   "source": [
    "## 3. Load Dataset"
   ]
  },
  {
   "cell_type": "code",
   "execution_count": 9,
   "id": "6bae8839-388f-4f7b-ab16-13c8aea0826a",
   "metadata": {},
   "outputs": [
    {
     "name": "stdout",
     "output_type": "stream",
     "text": [
      "Training set shape: (125973, 42)\n",
      "Test set shape: (22544, 42)\n"
     ]
    }
   ],
   "source": [
    "train_df = pd.read_csv(RAW_TRAIN_PATH, header=None, names=columns)\n",
    "test_df = pd.read_csv(RAW_TEST_PATH, header=None, names=columns)\n",
    "\n",
    "print(\"Training set shape:\", train_df.shape)\n",
    "print(\"Test set shape:\", test_df.shape)"
   ]
  },
  {
   "cell_type": "markdown",
   "id": "c50a8782-80ab-4395-b185-f9c58a48af80",
   "metadata": {},
   "source": [
    "## 4. Data Cleaning"
   ]
  },
  {
   "cell_type": "markdown",
   "id": "f37f26fe-980e-48ed-a0cb-7ccec9bf797e",
   "metadata": {},
   "source": [
    "### 4.1 Missing values check"
   ]
  },
  {
   "cell_type": "code",
   "execution_count": 10,
   "id": "21b972b1-500f-4a40-8325-db602037c4f5",
   "metadata": {},
   "outputs": [
    {
     "name": "stdout",
     "output_type": "stream",
     "text": [
      "\n",
      "[INFO] Missing values in Training Data:\n",
      "duration                       0\n",
      "protocol_type                  0\n",
      "service                        0\n",
      "flag                           0\n",
      "src_bytes                      0\n",
      "dst_bytes                      0\n",
      "land                           0\n",
      "wrong_fragment                 0\n",
      "urgent                         0\n",
      "hot                            0\n",
      "num_failed_logins              0\n",
      "logged_in                      0\n",
      "num_compromised                0\n",
      "root_shell                     0\n",
      "su_attempted                   0\n",
      "num_root                       0\n",
      "num_file_creations             0\n",
      "num_shells                     0\n",
      "num_access_files               0\n",
      "num_outbound_cmds              0\n",
      "is_host_login                  0\n",
      "is_guest_login                 0\n",
      "count                          0\n",
      "srv_count                      0\n",
      "serror_rate                    0\n",
      "srv_serror_rate                0\n",
      "rerror_rate                    0\n",
      "srv_rerror_rate                0\n",
      "same_srv_rate                  0\n",
      "diff_srv_rate                  0\n",
      "srv_diff_host_rate             0\n",
      "dst_host_count                 0\n",
      "dst_host_srv_count             0\n",
      "dst_host_same_srv_rate         0\n",
      "dst_host_diff_srv_rate         0\n",
      "dst_host_same_src_port_rate    0\n",
      "dst_host_srv_diff_host_rate    0\n",
      "dst_host_serror_rate           0\n",
      "dst_host_srv_serror_rate       0\n",
      "dst_host_rerror_rate           0\n",
      "dst_host_srv_rerror_rate       0\n",
      "label                          0\n",
      "dtype: int64\n",
      "\n",
      "[INFO] Missing values in Test Data:\n",
      "duration                       0\n",
      "protocol_type                  0\n",
      "service                        0\n",
      "flag                           0\n",
      "src_bytes                      0\n",
      "dst_bytes                      0\n",
      "land                           0\n",
      "wrong_fragment                 0\n",
      "urgent                         0\n",
      "hot                            0\n",
      "num_failed_logins              0\n",
      "logged_in                      0\n",
      "num_compromised                0\n",
      "root_shell                     0\n",
      "su_attempted                   0\n",
      "num_root                       0\n",
      "num_file_creations             0\n",
      "num_shells                     0\n",
      "num_access_files               0\n",
      "num_outbound_cmds              0\n",
      "is_host_login                  0\n",
      "is_guest_login                 0\n",
      "count                          0\n",
      "srv_count                      0\n",
      "serror_rate                    0\n",
      "srv_serror_rate                0\n",
      "rerror_rate                    0\n",
      "srv_rerror_rate                0\n",
      "same_srv_rate                  0\n",
      "diff_srv_rate                  0\n",
      "srv_diff_host_rate             0\n",
      "dst_host_count                 0\n",
      "dst_host_srv_count             0\n",
      "dst_host_same_srv_rate         0\n",
      "dst_host_diff_srv_rate         0\n",
      "dst_host_same_src_port_rate    0\n",
      "dst_host_srv_diff_host_rate    0\n",
      "dst_host_serror_rate           0\n",
      "dst_host_srv_serror_rate       0\n",
      "dst_host_rerror_rate           0\n",
      "dst_host_srv_rerror_rate       0\n",
      "label                          0\n",
      "dtype: int64\n"
     ]
    }
   ],
   "source": [
    "print(\"\\n[INFO] Missing values in Training Data:\")\n",
    "print(train_df.isnull().sum())\n",
    "print(\"\\n[INFO] Missing values in Test Data:\")\n",
    "print(test_df.isnull().sum())\n",
    "\n",
    "# If missing values exist, fill them (here we just fill numeric with median and categorical with mode)\n",
    "for df in [train_df, test_df]:\n",
    "    for col in df.columns:\n",
    "        if df[col].isnull().sum() > 0:\n",
    "            if df[col].dtype == 'object':\n",
    "                df[col].fillna(df[col].mode()[0], inplace=True)\n",
    "            else:\n",
    "                df[col].fillna(df[col].median(), inplace=True)"
   ]
  },
  {
   "cell_type": "markdown",
   "id": "7872b9f7-6c2f-4a6d-84b0-8a3b8770a8a9",
   "metadata": {},
   "source": [
    "### 4.2 Remove duplicates"
   ]
  },
  {
   "cell_type": "code",
   "execution_count": 11,
   "id": "e8bc1431-6240-4204-b42b-c03a357ae057",
   "metadata": {},
   "outputs": [
    {
     "name": "stdout",
     "output_type": "stream",
     "text": [
      "[INFO] Removed 1255 duplicate rows from training data\n",
      "[INFO] Removed 128 duplicate rows from test data\n"
     ]
    }
   ],
   "source": [
    "initial_train_shape = train_df.shape\n",
    "initial_test_shape = test_df.shape\n",
    "\n",
    "train_df.drop_duplicates(inplace=True)\n",
    "test_df.drop_duplicates(inplace=True)\n",
    "\n",
    "print(f\"[INFO] Removed {initial_train_shape[0] - train_df.shape[0]} duplicate rows from training data\")\n",
    "print(f\"[INFO] Removed {initial_test_shape[0] - test_df.shape[0]} duplicate rows from test data\")"
   ]
  },
  {
   "cell_type": "markdown",
   "id": "ec42b780-704b-4444-80cb-bea2515c96f3",
   "metadata": {},
   "source": [
    "### 4.3 Outliers"
   ]
  },
  {
   "cell_type": "code",
   "execution_count": 12,
   "id": "761648ea-70e7-49f6-a2b7-99354183b9be",
   "metadata": {},
   "outputs": [
    {
     "name": "stdout",
     "output_type": "stream",
     "text": [
      "[INFO] Outliers are kept for anomaly detection.\n"
     ]
    }
   ],
   "source": [
    "# We KEEP outliers because in IDS, rare/abnormal values may represent attacks.\n",
    "print(\"[INFO] Outliers are kept for anomaly detection.\")"
   ]
  },
  {
   "cell_type": "markdown",
   "id": "324babee-d210-41bb-94de-6e1cbb9d2400",
   "metadata": {},
   "source": [
    "## 5. Encode Categorical Features"
   ]
  },
  {
   "cell_type": "code",
   "execution_count": 15,
   "id": "07d58349-ac31-4587-accf-602c7699cda3",
   "metadata": {},
   "outputs": [],
   "source": [
    "from sklearn.preprocessing import LabelEncoder\n",
    "\n",
    "categorical_cols = [\"protocol_type\", \"service\", \"flag\", \"label\"]\n",
    "\n",
    "# Apply label encoding to each categorical column\n",
    "for col in categorical_cols:\n",
    "    le = LabelEncoder()\n",
    "    train_df[col] = le.fit_transform(train_df[col])\n",
    "    test_df[col] = le.transform(test_df[col])  # Use same mapping for test set"
   ]
  },
  {
   "cell_type": "markdown",
   "id": "25a1917d-d9f7-4d9c-8816-3deb4c46e5a8",
   "metadata": {},
   "source": [
    "## 6. Scale Numerical Features"
   ]
  },
  {
   "cell_type": "code",
   "execution_count": 16,
   "id": "91470c32-57fc-4b57-8f25-2a9383acb46b",
   "metadata": {},
   "outputs": [
    {
     "ename": "ValueError",
     "evalue": "could not convert string to float: 'tcp'",
     "output_type": "error",
     "traceback": [
      "\u001b[31m---------------------------------------------------------------------------\u001b[39m",
      "\u001b[31mValueError\u001b[39m                                Traceback (most recent call last)",
      "\u001b[32m~\\AppData\\Local\\Temp\\ipykernel_16820\\4048133885.py\u001b[39m in \u001b[36m?\u001b[39m\u001b[34m()\u001b[39m\n\u001b[32m      2\u001b[39m \n\u001b[32m      3\u001b[39m scaler = MinMaxScaler()\n\u001b[32m      4\u001b[39m feature_cols = train_df.columns[:-\u001b[32m1\u001b[39m]  \u001b[38;5;66;03m# All except label\u001b[39;00m\n\u001b[32m      5\u001b[39m \n\u001b[32m----> \u001b[39m\u001b[32m6\u001b[39m train_df[feature_cols] = scaler.fit_transform(train_df[feature_cols])\n\u001b[32m      7\u001b[39m test_df[feature_cols] = scaler.transform(test_df[feature_cols])\n\u001b[32m      8\u001b[39m \n\u001b[32m      9\u001b[39m print(\u001b[33m\"[INFO] Scaling complete.\"\u001b[39m)\n",
      "\u001b[32m~\\AppData\\Local\\Programs\\Python\\Python313\\Lib\\site-packages\\sklearn\\utils\\_set_output.py\u001b[39m in \u001b[36m?\u001b[39m\u001b[34m(self, X, *args, **kwargs)\u001b[39m\n\u001b[32m    317\u001b[39m     @wraps(f)\n\u001b[32m    318\u001b[39m     \u001b[38;5;28;01mdef\u001b[39;00m wrapped(self, X, *args, **kwargs):\n\u001b[32m--> \u001b[39m\u001b[32m319\u001b[39m         data_to_wrap = f(self, X, *args, **kwargs)\n\u001b[32m    320\u001b[39m         \u001b[38;5;28;01mif\u001b[39;00m isinstance(data_to_wrap, tuple):\n\u001b[32m    321\u001b[39m             \u001b[38;5;66;03m# only wrap the first output for cross decomposition\u001b[39;00m\n\u001b[32m    322\u001b[39m             return_tuple = (\n",
      "\u001b[32m~\\AppData\\Local\\Programs\\Python\\Python313\\Lib\\site-packages\\sklearn\\base.py\u001b[39m in \u001b[36m?\u001b[39m\u001b[34m(self, X, y, **fit_params)\u001b[39m\n\u001b[32m    914\u001b[39m                 )\n\u001b[32m    915\u001b[39m \n\u001b[32m    916\u001b[39m         \u001b[38;5;28;01mif\u001b[39;00m y \u001b[38;5;28;01mis\u001b[39;00m \u001b[38;5;28;01mNone\u001b[39;00m:\n\u001b[32m    917\u001b[39m             \u001b[38;5;66;03m# fit method of arity 1 (unsupervised transformation)\u001b[39;00m\n\u001b[32m--> \u001b[39m\u001b[32m918\u001b[39m             \u001b[38;5;28;01mreturn\u001b[39;00m self.fit(X, **fit_params).transform(X)\n\u001b[32m    919\u001b[39m         \u001b[38;5;28;01melse\u001b[39;00m:\n\u001b[32m    920\u001b[39m             \u001b[38;5;66;03m# fit method of arity 2 (supervised transformation)\u001b[39;00m\n\u001b[32m    921\u001b[39m             \u001b[38;5;28;01mreturn\u001b[39;00m self.fit(X, y, **fit_params).transform(X)\n",
      "\u001b[32m~\\AppData\\Local\\Programs\\Python\\Python313\\Lib\\site-packages\\sklearn\\preprocessing\\_data.py\u001b[39m in \u001b[36m?\u001b[39m\u001b[34m(self, X, y)\u001b[39m\n\u001b[32m    443\u001b[39m             Fitted scaler.\n\u001b[32m    444\u001b[39m         \"\"\"\n\u001b[32m    445\u001b[39m         \u001b[38;5;66;03m# Reset internal state before fitting\u001b[39;00m\n\u001b[32m    446\u001b[39m         self._reset()\n\u001b[32m--> \u001b[39m\u001b[32m447\u001b[39m         \u001b[38;5;28;01mreturn\u001b[39;00m self.partial_fit(X, y)\n",
      "\u001b[32m~\\AppData\\Local\\Programs\\Python\\Python313\\Lib\\site-packages\\sklearn\\base.py\u001b[39m in \u001b[36m?\u001b[39m\u001b[34m(estimator, *args, **kwargs)\u001b[39m\n\u001b[32m   1385\u001b[39m                 skip_parameter_validation=(\n\u001b[32m   1386\u001b[39m                     prefer_skip_nested_validation \u001b[38;5;28;01mor\u001b[39;00m global_skip_validation\n\u001b[32m   1387\u001b[39m                 )\n\u001b[32m   1388\u001b[39m             ):\n\u001b[32m-> \u001b[39m\u001b[32m1389\u001b[39m                 \u001b[38;5;28;01mreturn\u001b[39;00m fit_method(estimator, *args, **kwargs)\n",
      "\u001b[32m~\\AppData\\Local\\Programs\\Python\\Python313\\Lib\\site-packages\\sklearn\\preprocessing\\_data.py\u001b[39m in \u001b[36m?\u001b[39m\u001b[34m(self, X, y)\u001b[39m\n\u001b[32m    483\u001b[39m \n\u001b[32m    484\u001b[39m         xp, _ = get_namespace(X)\n\u001b[32m    485\u001b[39m \n\u001b[32m    486\u001b[39m         first_pass = \u001b[38;5;28;01mnot\u001b[39;00m hasattr(self, \u001b[33m\"n_samples_seen_\"\u001b[39m)\n\u001b[32m--> \u001b[39m\u001b[32m487\u001b[39m         X = validate_data(\n\u001b[32m    488\u001b[39m             self,\n\u001b[32m    489\u001b[39m             X,\n\u001b[32m    490\u001b[39m             reset=first_pass,\n",
      "\u001b[32m~\\AppData\\Local\\Programs\\Python\\Python313\\Lib\\site-packages\\sklearn\\utils\\validation.py\u001b[39m in \u001b[36m?\u001b[39m\u001b[34m(_estimator, X, y, reset, validate_separately, skip_check_array, **check_params)\u001b[39m\n\u001b[32m   2940\u001b[39m             out = y\n\u001b[32m   2941\u001b[39m         \u001b[38;5;28;01melse\u001b[39;00m:\n\u001b[32m   2942\u001b[39m             out = X, y\n\u001b[32m   2943\u001b[39m     \u001b[38;5;28;01melif\u001b[39;00m \u001b[38;5;28;01mnot\u001b[39;00m no_val_X \u001b[38;5;28;01mand\u001b[39;00m no_val_y:\n\u001b[32m-> \u001b[39m\u001b[32m2944\u001b[39m         out = check_array(X, input_name=\u001b[33m\"X\"\u001b[39m, **check_params)\n\u001b[32m   2945\u001b[39m     \u001b[38;5;28;01melif\u001b[39;00m no_val_X \u001b[38;5;28;01mand\u001b[39;00m \u001b[38;5;28;01mnot\u001b[39;00m no_val_y:\n\u001b[32m   2946\u001b[39m         out = _check_y(y, **check_params)\n\u001b[32m   2947\u001b[39m     \u001b[38;5;28;01melse\u001b[39;00m:\n",
      "\u001b[32m~\\AppData\\Local\\Programs\\Python\\Python313\\Lib\\site-packages\\sklearn\\utils\\validation.py\u001b[39m in \u001b[36m?\u001b[39m\u001b[34m(array, accept_sparse, accept_large_sparse, dtype, order, copy, force_writeable, force_all_finite, ensure_all_finite, ensure_non_negative, ensure_2d, allow_nd, ensure_min_samples, ensure_min_features, estimator, input_name)\u001b[39m\n\u001b[32m   1052\u001b[39m                         )\n\u001b[32m   1053\u001b[39m                     array = xp.astype(array, dtype, copy=\u001b[38;5;28;01mFalse\u001b[39;00m)\n\u001b[32m   1054\u001b[39m                 \u001b[38;5;28;01melse\u001b[39;00m:\n\u001b[32m   1055\u001b[39m                     array = _asarray_with_order(array, order=order, dtype=dtype, xp=xp)\n\u001b[32m-> \u001b[39m\u001b[32m1056\u001b[39m             \u001b[38;5;28;01mexcept\u001b[39;00m ComplexWarning \u001b[38;5;28;01mas\u001b[39;00m complex_warning:\n\u001b[32m   1057\u001b[39m                 raise ValueError(\n\u001b[32m   1058\u001b[39m                     \u001b[33m\"Complex data not supported\\n{}\\n\"\u001b[39m.format(array)\n\u001b[32m   1059\u001b[39m                 ) \u001b[38;5;28;01mfrom\u001b[39;00m complex_warning\n",
      "\u001b[32m~\\AppData\\Local\\Programs\\Python\\Python313\\Lib\\site-packages\\sklearn\\utils\\_array_api.py\u001b[39m in \u001b[36m?\u001b[39m\u001b[34m(array, dtype, order, copy, xp, device)\u001b[39m\n\u001b[32m    835\u001b[39m         \u001b[38;5;66;03m# Use NumPy API to support order\u001b[39;00m\n\u001b[32m    836\u001b[39m         \u001b[38;5;28;01mif\u001b[39;00m copy \u001b[38;5;28;01mis\u001b[39;00m \u001b[38;5;28;01mTrue\u001b[39;00m:\n\u001b[32m    837\u001b[39m             array = numpy.array(array, order=order, dtype=dtype)\n\u001b[32m    838\u001b[39m         \u001b[38;5;28;01melse\u001b[39;00m:\n\u001b[32m--> \u001b[39m\u001b[32m839\u001b[39m             array = numpy.asarray(array, order=order, dtype=dtype)\n\u001b[32m    840\u001b[39m \n\u001b[32m    841\u001b[39m         \u001b[38;5;66;03m# At this point array is a NumPy ndarray. We convert it to an array\u001b[39;00m\n\u001b[32m    842\u001b[39m         \u001b[38;5;66;03m# container that is consistent with the input's namespace.\u001b[39;00m\n",
      "\u001b[32m~\\AppData\\Local\\Programs\\Python\\Python313\\Lib\\site-packages\\pandas\\core\\generic.py\u001b[39m in \u001b[36m?\u001b[39m\u001b[34m(self, dtype, copy)\u001b[39m\n\u001b[32m   2149\u001b[39m     def __array__(\n\u001b[32m   2150\u001b[39m         self, dtype: npt.DTypeLike | \u001b[38;5;28;01mNone\u001b[39;00m = \u001b[38;5;28;01mNone\u001b[39;00m, copy: bool_t | \u001b[38;5;28;01mNone\u001b[39;00m = \u001b[38;5;28;01mNone\u001b[39;00m\n\u001b[32m   2151\u001b[39m     ) -> np.ndarray:\n\u001b[32m   2152\u001b[39m         values = self._values\n\u001b[32m-> \u001b[39m\u001b[32m2153\u001b[39m         arr = np.asarray(values, dtype=dtype)\n\u001b[32m   2154\u001b[39m         if (\n\u001b[32m   2155\u001b[39m             astype_is_view(values.dtype, arr.dtype)\n\u001b[32m   2156\u001b[39m             \u001b[38;5;28;01mand\u001b[39;00m using_copy_on_write()\n",
      "\u001b[31mValueError\u001b[39m: could not convert string to float: 'tcp'"
     ]
    }
   ],
   "source": [
    "from sklearn.preprocessing import MinMaxScaler\n",
    "\n",
    "scaler = MinMaxScaler()\n",
    "feature_cols = train_df.columns[:-1]  # All except label\n",
    "\n",
    "train_df[feature_cols] = scaler.fit_transform(train_df[feature_cols])\n",
    "test_df[feature_cols] = scaler.transform(test_df[feature_cols])\n",
    "\n",
    "print(\"[INFO] Scaling complete.\")"
   ]
  },
  {
   "cell_type": "markdown",
   "id": "d09cf5a4-9c1f-436f-a311-b002b9974a13",
   "metadata": {},
   "source": [
    "## 7. Check Class Imbalance"
   ]
  },
  {
   "cell_type": "code",
   "execution_count": 17,
   "id": "cc188921-d8d9-4329-9f5b-2437dadb973c",
   "metadata": {},
   "outputs": [
    {
     "data": {
      "image/png": "[encoded data removed]",
      "text/plain": [
       "<Figure size 800x500 with 1 Axes>"
      ]
     },
     "metadata": {},
     "output_type": "display_data"
    },
    {
     "name": "stdout",
     "output_type": "stream",
     "text": [
      "Class counts: Counter({21: 62238, 18: 20628, 20: 19315, 19: 10283, 15: 3150, 17: 3073, 16: 2373, 12: 729, 14: 671, 11: 641, 13: 450, 10: 253, 9: 191, 7: 117, 8: 106, 6: 96, 5: 81, 4: 79, 0: 66, 3: 65, 1: 61, 2: 52})\n"
     ]
    }
   ],
   "source": [
    "plt.figure(figsize=(8,5))\n",
    "sns.countplot(y='label', data=train_df, order=train_df['label'].value_counts().index)\n",
    "plt.title(\"Class Distribution (Encoded)\")\n",
    "plt.show()\n",
    "\n",
    "print(\"Class counts:\", Counter(train_df['label']))"
   ]
  },
  {
   "cell_type": "markdown",
   "id": "e97caa1e-5291-4cca-8ee5-8927bb09a5ee",
   "metadata": {},
   "source": [
    "## 8. Apply SMOTE (Optional)"
   ]
  },
  {
   "cell_type": "code",
   "execution_count": null,
   "id": "c9bd09d5",
   "metadata": {},
   "outputs": [],
   "source": [
    "apply_smote = True  # Change to False if you don't want balancing\n",
    "\n",
    "if apply_smote:\n",
    "    X_train = train_df.drop(\"label\", axis=1)\n",
    "    y_train = train_df[\"label\"]\n",
    "\n",
    "    smote = SMOTE(random_state=42)\n",
    "    X_res, y_res = smote.fit_resample(X_train, y_train)\n",
    "\n",
    "    train_df = pd.concat([pd.DataFrame(X_res, columns=feature_cols), pd.Series(y_res, name=\"label\")], axis=1)\n",
    "\n",
    "    print(\"[INFO] SMOTE applied. New class counts:\", Counter(train_df['label']))"
   ]
  },
  {
   "cell_type": "markdown",
   "id": "6190eb74-e8bd-48d6-a2c5-defe25d65e74",
   "metadata": {},
   "source": [
    "## 9. Save Processed Data"
   ]
  },
  {
   "cell_type": "code",
   "execution_count": null,
   "id": "e6bfab60-c898-45c1-8ef5-9f89611a36bd",
   "metadata": {},
   "outputs": [],
   "source": [
    "os.makedirs(PROCESSED_DIR, exist_ok=True)\n",
    "\n",
    "train_df.to_csv(f\"{PROCESSED_DIR}/train_processed.csv\", index=False)\n",
    "test_df.to_csv(f\"{PROCESSED_DIR}/test_processed.csv\", index=False)\n",
    "\n",
    "print(f\"[INFO] Processed files saved in {PROCESSED_DIR}\")"
   ]
  }
 ],
 "metadata": {
  "kernelspec": {
   "display_name": "Python 3 (ipykernel)",
   "language": "python",
   "name": "python3"
  },
  "language_info": {
   "codemirror_mode": {
    "name": "ipython",
    "version": 3
   },
   "file_extension": ".py",
   "mimetype": "text/x-python",
   "name": "python",
   "nbconvert_exporter": "python",
   "pygments_lexer": "ipython3",
   "version": "3.13.3"
  }
 },
 "nbformat": 4,
 "nbformat_minor": 5
}
