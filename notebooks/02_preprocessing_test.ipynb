{
 "cells": [
  {
   "cell_type": "markdown",
   "id": "95cff41c-cd61-4c24-839a-a7ae2eb49014",
   "metadata": {},
   "source": [
    "## 1. Imports"
   ]
  },
  {
   "cell_type": "code",
   "execution_count": 1,
   "id": "123a9e56-ef35-4473-9d4d-33037a8b79b5",
   "metadata": {},
   "outputs": [],
   "source": [
    "import pandas as pd\n",
    "from sklearn.preprocessing import LabelEncoder, MinMaxScaler\n",
    "from collections import Counter\n",
    "import matplotlib.pyplot as plt\n",
    "import seaborn as sns\n",
    "from imblearn.over_sampling import SMOTE\n",
    "import os"
   ]
  },
  {
   "cell_type": "markdown",
   "id": "b58b66e9-76b9-4a2f-95f8-d2654605ea00",
   "metadata": {},
   "source": [
    "## 2. Paths & Columns"
   ]
  },
  {
   "cell_type": "code",
   "execution_count": 2,
   "id": "e9f8c1d3-02fb-46e1-a8d8-ebc914f1a20c",
   "metadata": {},
   "outputs": [],
   "source": [
    "RAW_TRAIN_PATH = \"../data/raw/KDDTrain+.txt\"\n",
    "RAW_TEST_PATH = \"../data/raw/KDDTest+.txt\"\n",
    "PROCESSED_DIR = \"../data/processed/\"\n",
    "\n",
    "columns = [\n",
    "    \"duration\",\"protocol_type\",\"service\",\"flag\",\"src_bytes\",\"dst_bytes\",\"land\",\n",
    "    \"wrong_fragment\",\"urgent\",\"hot\",\"num_failed_logins\",\"logged_in\",\"num_compromised\",\n",
    "    \"root_shell\",\"su_attempted\",\"num_root\",\"num_file_creations\",\"num_shells\",\n",
    "    \"num_access_files\",\"num_outbound_cmds\",\"is_host_login\",\"is_guest_login\",\n",
    "    \"count\",\"srv_count\",\"serror_rate\",\"srv_serror_rate\",\"rerror_rate\",\n",
    "    \"srv_rerror_rate\",\"same_srv_rate\",\"diff_srv_rate\",\"srv_diff_host_rate\",\n",
    "    \"dst_host_count\",\"dst_host_srv_count\",\"dst_host_same_srv_rate\",\n",
    "    \"dst_host_diff_srv_rate\",\"dst_host_same_src_port_rate\",\n",
    "    \"dst_host_srv_diff_host_rate\",\"dst_host_serror_rate\",\n",
    "    \"dst_host_srv_serror_rate\",\"dst_host_rerror_rate\",\n",
    "    \"dst_host_srv_rerror_rate\",\"label\"\n",
    "]"
   ]
  },
  {
   "cell_type": "markdown",
   "id": "5fee76ee-5e9e-4cc5-9af4-d80e9358c234",
   "metadata": {},
   "source": [
    "## 3. Load Dataset"
   ]
  },
  {
   "cell_type": "code",
   "execution_count": 3,
   "id": "6bae8839-388f-4f7b-ab16-13c8aea0826a",
   "metadata": {},
   "outputs": [
    {
     "name": "stdout",
     "output_type": "stream",
     "text": [
      "Training set shape: (125973, 42)\n",
      "Test set shape: (22544, 42)\n"
     ]
    }
   ],
   "source": [
    "train_df = pd.read_csv(RAW_TRAIN_PATH, header=None, names=columns)\n",
    "test_df = pd.read_csv(RAW_TEST_PATH, header=None, names=columns)\n",
    "\n",
    "print(\"Training set shape:\", train_df.shape)\n",
    "print(\"Test set shape:\", test_df.shape)"
   ]
  },
  {
   "cell_type": "markdown",
   "id": "c50a8782-80ab-4395-b185-f9c58a48af80",
   "metadata": {},
   "source": [
    "## 4. Data Cleaning"
   ]
  },
  {
   "cell_type": "markdown",
   "id": "f37f26fe-980e-48ed-a0cb-7ccec9bf797e",
   "metadata": {},
   "source": [
    "### 4.1 Missing values check"
   ]
  },
  {
   "cell_type": "code",
   "execution_count": 4,
   "id": "21b972b1-500f-4a40-8325-db602037c4f5",
   "metadata": {},
   "outputs": [
    {
     "name": "stdout",
     "output_type": "stream",
     "text": [
      "\n",
      "[INFO] Missing values in Training Data:\n",
      "duration                       0\n",
      "protocol_type                  0\n",
      "service                        0\n",
      "flag                           0\n",
      "src_bytes                      0\n",
      "dst_bytes                      0\n",
      "land                           0\n",
      "wrong_fragment                 0\n",
      "urgent                         0\n",
      "hot                            0\n",
      "num_failed_logins              0\n",
      "logged_in                      0\n",
      "num_compromised                0\n",
      "root_shell                     0\n",
      "su_attempted                   0\n",
      "num_root                       0\n",
      "num_file_creations             0\n",
      "num_shells                     0\n",
      "num_access_files               0\n",
      "num_outbound_cmds              0\n",
      "is_host_login                  0\n",
      "is_guest_login                 0\n",
      "count                          0\n",
      "srv_count                      0\n",
      "serror_rate                    0\n",
      "srv_serror_rate                0\n",
      "rerror_rate                    0\n",
      "srv_rerror_rate                0\n",
      "same_srv_rate                  0\n",
      "diff_srv_rate                  0\n",
      "srv_diff_host_rate             0\n",
      "dst_host_count                 0\n",
      "dst_host_srv_count             0\n",
      "dst_host_same_srv_rate         0\n",
      "dst_host_diff_srv_rate         0\n",
      "dst_host_same_src_port_rate    0\n",
      "dst_host_srv_diff_host_rate    0\n",
      "dst_host_serror_rate           0\n",
      "dst_host_srv_serror_rate       0\n",
      "dst_host_rerror_rate           0\n",
      "dst_host_srv_rerror_rate       0\n",
      "label                          0\n",
      "dtype: int64\n",
      "\n",
      "[INFO] Missing values in Test Data:\n",
      "duration                       0\n",
      "protocol_type                  0\n",
      "service                        0\n",
      "flag                           0\n",
      "src_bytes                      0\n",
      "dst_bytes                      0\n",
      "land                           0\n",
      "wrong_fragment                 0\n",
      "urgent                         0\n",
      "hot                            0\n",
      "num_failed_logins              0\n",
      "logged_in                      0\n",
      "num_compromised                0\n",
      "root_shell                     0\n",
      "su_attempted                   0\n",
      "num_root                       0\n",
      "num_file_creations             0\n",
      "num_shells                     0\n",
      "num_access_files               0\n",
      "num_outbound_cmds              0\n",
      "is_host_login                  0\n",
      "is_guest_login                 0\n",
      "count                          0\n",
      "srv_count                      0\n",
      "serror_rate                    0\n",
      "srv_serror_rate                0\n",
      "rerror_rate                    0\n",
      "srv_rerror_rate                0\n",
      "same_srv_rate                  0\n",
      "diff_srv_rate                  0\n",
      "srv_diff_host_rate             0\n",
      "dst_host_count                 0\n",
      "dst_host_srv_count             0\n",
      "dst_host_same_srv_rate         0\n",
      "dst_host_diff_srv_rate         0\n",
      "dst_host_same_src_port_rate    0\n",
      "dst_host_srv_diff_host_rate    0\n",
      "dst_host_serror_rate           0\n",
      "dst_host_srv_serror_rate       0\n",
      "dst_host_rerror_rate           0\n",
      "dst_host_srv_rerror_rate       0\n",
      "label                          0\n",
      "dtype: int64\n"
     ]
    }
   ],
   "source": [
    "print(\"\\n[INFO] Missing values in Training Data:\")\n",
    "print(train_df.isnull().sum())\n",
    "print(\"\\n[INFO] Missing values in Test Data:\")\n",
    "print(test_df.isnull().sum())\n",
    "\n",
    "# If missing values exist, fill them (here we just fill numeric with median and categorical with mode)\n",
    "for df in [train_df, test_df]:\n",
    "    for col in df.columns:\n",
    "        if df[col].isnull().sum() > 0:\n",
    "            if df[col].dtype == 'object':\n",
    "                df[col].fillna(df[col].mode()[0], inplace=True)\n",
    "            else:\n",
    "                df[col].fillna(df[col].median(), inplace=True)"
   ]
  },
  {
   "cell_type": "markdown",
   "id": "7872b9f7-6c2f-4a6d-84b0-8a3b8770a8a9",
   "metadata": {},
   "source": [
    "### 4.2 Remove duplicates"
   ]
  },
  {
   "cell_type": "code",
   "execution_count": 5,
   "id": "e8bc1431-6240-4204-b42b-c03a357ae057",
   "metadata": {},
   "outputs": [
    {
     "name": "stdout",
     "output_type": "stream",
     "text": [
      "[INFO] Removed 1255 duplicate rows from training data\n",
      "[INFO] Removed 128 duplicate rows from test data\n"
     ]
    }
   ],
   "source": [
    "initial_train_shape = train_df.shape\n",
    "initial_test_shape = test_df.shape\n",
    "\n",
    "train_df.drop_duplicates(inplace=True)\n",
    "test_df.drop_duplicates(inplace=True)\n",
    "\n",
    "print(f\"[INFO] Removed {initial_train_shape[0] - train_df.shape[0]} duplicate rows from training data\")\n",
    "print(f\"[INFO] Removed {initial_test_shape[0] - test_df.shape[0]} duplicate rows from test data\")"
   ]
  },
  {
   "cell_type": "markdown",
   "id": "ec42b780-704b-4444-80cb-bea2515c96f3",
   "metadata": {},
   "source": [
    "### 4.3 Outliers"
   ]
  },
  {
   "cell_type": "code",
   "execution_count": 6,
   "id": "761648ea-70e7-49f6-a2b7-99354183b9be",
   "metadata": {},
   "outputs": [
    {
     "name": "stdout",
     "output_type": "stream",
     "text": [
      "[INFO] Outliers are kept for anomaly detection.\n"
     ]
    }
   ],
   "source": [
    "# We KEEP outliers because in IDS, rare/abnormal values may represent attacks.\n",
    "print(\"[INFO] Outliers are kept for anomaly detection.\")"
   ]
  },
  {
   "cell_type": "markdown",
   "id": "324babee-d210-41bb-94de-6e1cbb9d2400",
   "metadata": {},
   "source": [
    "## 5. Encode Categorical Features"
   ]
  },
  {
   "cell_type": "code",
   "execution_count": 11,
   "id": "07d58349-ac31-4587-accf-602c7699cda3",
   "metadata": {},
   "outputs": [
    {
     "name": "stdout",
     "output_type": "stream",
     "text": [
      "[INFO] Encoded column 'protocol_type' with 70 unique classes.\n",
      "[INFO] Encoded column 'service' with 11 unique classes.\n",
      "[INFO] Encoded column 'flag' with 3611 unique classes.\n",
      "[INFO] Encoded column 'label' with 22 unique classes.\n"
     ]
    }
   ],
   "source": [
    "from sklearn.preprocessing import LabelEncoder\n",
    "\n",
    "categorical_cols = [\"protocol_type\", \"service\", \"flag\", \"label\"]\n",
    "\n",
    "# Encode train and test together to avoid unseen category errors\n",
    "for col in categorical_cols:\n",
    "    le = LabelEncoder()\n",
    "    combined = pd.concat([train_df[col], test_df[col]])  # stack train + test\n",
    "    le.fit(combined)  # fit on all unique categories\n",
    "    train_df[col] = le.transform(train_df[col])\n",
    "    test_df[col] = le.transform(test_df[col])\n",
    "    print(f\"[INFO] Encoded column '{col}' with {len(le.classes_)} unique classes.\")"
   ]
  },
  {
   "cell_type": "markdown",
   "id": "25a1917d-d9f7-4d9c-8816-3deb4c46e5a8",
   "metadata": {},
   "source": [
    "## 6. Scale Numerical Features"
   ]
  },
  {
   "cell_type": "code",
   "execution_count": 13,
   "id": "a8160a29-e1e3-42f5-9348-454aa5e6ac4c",
   "metadata": {},
   "outputs": [
    {
     "name": "stdout",
     "output_type": "stream",
     "text": [
      "duration                        object\n",
      "protocol_type                    int64\n",
      "service                          int64\n",
      "flag                             int64\n",
      "src_bytes                        int64\n",
      "dst_bytes                        int64\n",
      "land                             int64\n",
      "wrong_fragment                   int64\n",
      "urgent                           int64\n",
      "hot                              int64\n",
      "num_failed_logins                int64\n",
      "logged_in                        int64\n",
      "num_compromised                  int64\n",
      "root_shell                       int64\n",
      "su_attempted                     int64\n",
      "num_root                         int64\n",
      "num_file_creations               int64\n",
      "num_shells                       int64\n",
      "num_access_files                 int64\n",
      "num_outbound_cmds                int64\n",
      "is_host_login                    int64\n",
      "is_guest_login                   int64\n",
      "count                            int64\n",
      "srv_count                      float64\n",
      "serror_rate                    float64\n",
      "srv_serror_rate                float64\n",
      "rerror_rate                    float64\n",
      "srv_rerror_rate                float64\n",
      "same_srv_rate                  float64\n",
      "diff_srv_rate                  float64\n",
      "srv_diff_host_rate               int64\n",
      "dst_host_count                   int64\n",
      "dst_host_srv_count             float64\n",
      "dst_host_same_srv_rate         float64\n",
      "dst_host_diff_srv_rate         float64\n",
      "dst_host_same_src_port_rate    float64\n",
      "dst_host_srv_diff_host_rate    float64\n",
      "dst_host_serror_rate           float64\n",
      "dst_host_srv_serror_rate       float64\n",
      "dst_host_rerror_rate           float64\n",
      "dst_host_srv_rerror_rate        object\n",
      "label                            int64\n",
      "dtype: object\n",
      "duration                        object\n",
      "protocol_type                    int64\n",
      "service                          int64\n",
      "flag                             int64\n",
      "src_bytes                        int64\n",
      "dst_bytes                        int64\n",
      "land                             int64\n",
      "wrong_fragment                   int64\n",
      "urgent                           int64\n",
      "hot                              int64\n",
      "num_failed_logins                int64\n",
      "logged_in                        int64\n",
      "num_compromised                  int64\n",
      "root_shell                       int64\n",
      "su_attempted                     int64\n",
      "num_root                         int64\n",
      "num_file_creations               int64\n",
      "num_shells                       int64\n",
      "num_access_files                 int64\n",
      "num_outbound_cmds                int64\n",
      "is_host_login                    int64\n",
      "is_guest_login                   int64\n",
      "count                            int64\n",
      "srv_count                      float64\n",
      "serror_rate                    float64\n",
      "srv_serror_rate                float64\n",
      "rerror_rate                    float64\n",
      "srv_rerror_rate                float64\n",
      "same_srv_rate                  float64\n",
      "diff_srv_rate                  float64\n",
      "srv_diff_host_rate               int64\n",
      "dst_host_count                   int64\n",
      "dst_host_srv_count             float64\n",
      "dst_host_same_srv_rate         float64\n",
      "dst_host_diff_srv_rate         float64\n",
      "dst_host_same_src_port_rate    float64\n",
      "dst_host_srv_diff_host_rate    float64\n",
      "dst_host_serror_rate           float64\n",
      "dst_host_srv_serror_rate       float64\n",
      "dst_host_rerror_rate           float64\n",
      "dst_host_srv_rerror_rate        object\n",
      "label                            int64\n",
      "dtype: object\n"
     ]
    }
   ],
   "source": [
    "print(train_df.dtypes)\n",
    "print(test_df.dtypes)"
   ]
  },
  {
   "cell_type": "code",
   "execution_count": 14,
   "id": "19a8b4c3-0fc6-4ede-8cc0-a45699057d17",
   "metadata": {},
   "outputs": [],
   "source": [
    "# Convert object columns to numeric (forcing non-numeric to NaN)\n",
    "train_df[\"duration\"] = pd.to_numeric(train_df[\"duration\"], errors=\"coerce\")\n",
    "test_df[\"duration\"] = pd.to_numeric(test_df[\"duration\"], errors=\"coerce\")\n",
    "\n",
    "train_df[\"dst_host_srv_rerror_rate\"] = pd.to_numeric(train_df[\"dst_host_srv_rerror_rate\"], errors=\"coerce\")\n",
    "test_df[\"dst_host_srv_rerror_rate\"] = pd.to_numeric(test_df[\"dst_host_srv_rerror_rate\"], errors=\"coerce\")\n",
    "\n",
    "# Fill NaNs that may have appeared after coercion\n",
    "train_df.fillna(0, inplace=True)\n",
    "test_df.fillna(0, inplace=True)"
   ]
  },
  {
   "cell_type": "code",
   "execution_count": 15,
   "id": "91470c32-57fc-4b57-8f25-2a9383acb46b",
   "metadata": {},
   "outputs": [
    {
     "name": "stdout",
     "output_type": "stream",
     "text": [
      "[INFO] Scaling complete.\n"
     ]
    }
   ],
   "source": [
    "from sklearn.preprocessing import MinMaxScaler\n",
    "\n",
    "scaler = MinMaxScaler()\n",
    "feature_cols = train_df.columns[:-1]  # All except label\n",
    "\n",
    "train_df[feature_cols] = scaler.fit_transform(train_df[feature_cols])\n",
    "test_df[feature_cols] = scaler.transform(test_df[feature_cols])\n",
    "\n",
    "print(\"[INFO] Scaling complete.\")"
   ]
  },
  {
   "cell_type": "markdown",
   "id": "d09cf5a4-9c1f-436f-a311-b002b9974a13",
   "metadata": {},
   "source": [
    "## 7. Check Class Imbalance"
   ]
  },
  {
   "cell_type": "code",
   "execution_count": 16,
   "id": "cc188921-d8d9-4329-9f5b-2437dadb973c",
   "metadata": {},
   "outputs": [
    {
     "data": {
      "image/png": "[encoded data removed]",
      "text/plain": [
       "<Figure size 800x500 with 1 Axes>"
      ]
     },
     "metadata": {},
     "output_type": "display_data"
    },
    {
     "name": "stdout",
     "output_type": "stream",
     "text": [
      "Class counts: Counter({21: 62238, 18: 20628, 20: 19315, 19: 10283, 15: 3150, 17: 3073, 16: 2373, 12: 729, 14: 671, 11: 641, 13: 450, 10: 253, 9: 191, 7: 117, 8: 106, 6: 96, 5: 81, 4: 79, 0: 66, 3: 65, 1: 61, 2: 52})\n"
     ]
    }
   ],
   "source": [
    "plt.figure(figsize=(8,5))\n",
    "sns.countplot(y='label', data=train_df, order=train_df['label'].value_counts().index)\n",
    "plt.title(\"Class Distribution (Encoded)\")\n",
    "plt.show()\n",
    "\n",
    "print(\"Class counts:\", Counter(train_df['label']))"
   ]
  },
  {
   "cell_type": "markdown",
   "id": "e97caa1e-5291-4cca-8ee5-8927bb09a5ee",
   "metadata": {},
   "source": [
    "## 8. Apply SMOTE (Optional)"
   ]
  },
  {
   "cell_type": "code",
   "execution_count": 19,
   "id": "c9bd09d5",
   "metadata": {},
   "outputs": [
    {
     "name": "stdout",
     "output_type": "stream",
     "text": [
      "[INFO] Class distribution before SMOTE: Counter({20: 62238, 15: 62238, 19: 62238, 21: 62238, 18: 62238, 17: 62238, 16: 62238, 12: 62238, 14: 62238, 11: 62238, 2: 62238, 13: 62238, 10: 62238, 9: 62238, 8: 62238, 7: 62238, 3: 62238, 5: 62238, 1: 62238, 6: 62238, 0: 62238, 4: 62238})\n",
      "[INFO] Class distribution after SMOTE: Counter({20: 62238, 15: 62238, 19: 62238, 21: 62238, 18: 62238, 17: 62238, 16: 62238, 12: 62238, 14: 62238, 11: 62238, 2: 62238, 13: 62238, 10: 62238, 9: 62238, 8: 62238, 7: 62238, 3: 62238, 5: 62238, 1: 62238, 6: 62238, 0: 62238, 4: 62238})\n"
     ]
    },
    {
     "data": {
      "image/png": "[encoded data removed]",
      "text/plain": [
       "<Figure size 1200x500 with 2 Axes>"
      ]
     },
     "metadata": {},
     "output_type": "display_data"
    }
   ],
   "source": [
    "from imblearn.over_sampling import SMOTE\n",
    "from collections import Counter\n",
    "import matplotlib.pyplot as plt\n",
    "\n",
    "apply_smote = True  # Set False if you want to skip balancing\n",
    "\n",
    "if apply_smote:\n",
    "    X_train = train_df.drop(\"label\", axis=1)\n",
    "    y_train = train_df[\"label\"]\n",
    "\n",
    "    print(\"[INFO] Class distribution before SMOTE:\", Counter(y_train))\n",
    "\n",
    "    smote = SMOTE(random_state=42)\n",
    "    X_res, y_res = smote.fit_resample(X_train, y_train)\n",
    "\n",
    "    # Replace train_df with balanced version\n",
    "    train_df = pd.concat([pd.DataFrame(X_res, columns=X_train.columns), \n",
    "                          pd.Series(y_res, name=\"label\")], axis=1)\n",
    "\n",
    "    print(\"[INFO] Class distribution after SMOTE:\", Counter(train_df[\"label\"]))\n",
    "\n",
    "    # Optional: Plot before/after distribution\n",
    "    fig, axes = plt.subplots(1, 2, figsize=(12,5))\n",
    "    axes[0].bar(Counter(y_train).keys(), Counter(y_train).values())\n",
    "    axes[0].set_title(\"Before SMOTE\")\n",
    "    axes[1].bar(Counter(y_res).keys(), Counter(y_res).values())\n",
    "    axes[1].set_title(\"After SMOTE\")\n",
    "    plt.show()\n",
    "else:\n",
    "    print(\"[INFO] SMOTE skipped.\")"
   ]
  },
  {
   "cell_type": "markdown",
   "id": "6190eb74-e8bd-48d6-a2c5-defe25d65e74",
   "metadata": {},
   "source": [
    "## 9. Save Processed Data"
   ]
  },
  {
   "cell_type": "code",
   "execution_count": 20,
   "id": "e6bfab60-c898-45c1-8ef5-9f89611a36bd",
   "metadata": {},
   "outputs": [
    {
     "name": "stdout",
     "output_type": "stream",
     "text": [
      "[INFO] Processed files saved in ../data/processed/\n"
     ]
    }
   ],
   "source": [
    "os.makedirs(PROCESSED_DIR, exist_ok=True)\n",
    "\n",
    "train_df.to_csv(f\"{PROCESSED_DIR}/train_processed.csv\", index=False)\n",
    "test_df.to_csv(f\"{PROCESSED_DIR}/test_processed.csv\", index=False)\n",
    "\n",
    "print(f\"[INFO] Processed files saved in {PROCESSED_DIR}\")"
   ]
  }
 ],
 "metadata": {
  "kernelspec": {
   "display_name": "Python 3 (ipykernel)",
   "language": "python",
   "name": "python3"
  },
  "language_info": {
   "codemirror_mode": {
    "name": "ipython",
    "version": 3
   },
   "file_extension": ".py",
   "mimetype": "text/x-python",
   "name": "python",
   "nbconvert_exporter": "python",
   "pygments_lexer": "ipython3",
   "version": "3.13.3"
  }
 },
 "nbformat": 4,
 "nbformat_minor": 5
}
